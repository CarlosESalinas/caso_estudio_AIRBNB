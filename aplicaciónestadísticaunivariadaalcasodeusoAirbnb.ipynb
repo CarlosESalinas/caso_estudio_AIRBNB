{
 "cells": [
  {
   "cell_type": "markdown",
   "metadata": {},
   "source": [
    "Teniendo en cuenta el caso de uso de Airbnb, se desea desarrollar un proyecto basado en ciencia de datos que permita caracterizar los distintos puntos de alojamientos que dispone la plataforma para la ciudad de Ámsterdam.  Para tal fin se tiene un conjunto de hipótesis que deben ser validados mediante el uso de análisis exploratorio, le invitamos a poner en práctica sus conocimientos.\n",
    "\n",
    "1. ¿Entre que puntajes está el 53% de las calificaciones de revisión más bajas de la plataforma?\n",
    "\n",
    "**Para responder a esta pregunta te invitamos a seguir los siguientes pasos:**\n",
    "\n",
    "Revisar el caso de uso de Airbnb, aquí podrás encontrar un diccionario de variables y los datos de la tabla “listing.csv” que esta previamente procesada.\n",
    "\n",
    "1. Cargar los datos de la tabla “listing.csv” que esta previamente procesada.\n",
    "2. Buscar la variable “review_scores_rating”.\n",
    "3. Excluir los valores nulos de la variable “review_scores_rating”.\n",
    "4. Construir la siguiente tabla de frecuencia.r"
   ]
  },
  {
   "cell_type": "code",
   "execution_count": 1,
   "metadata": {},
   "outputs": [],
   "source": [
    "# Librerias\n",
    "import pandas as pd\n",
    "import os"
   ]
  },
  {
   "cell_type": "code",
   "execution_count": 2,
   "metadata": {},
   "outputs": [],
   "source": [
    "# carga de datos en csv\n",
    "data = pd.read_csv('listing.csv', sep = ',', encoding = 'latin-1')\n"
   ]
  },
  {
   "cell_type": "code",
   "execution_count": 9,
   "metadata": {},
   "outputs": [],
   "source": [
    "# Se eliminan los valores nulos de la variable 'review_scores_rating'\n",
    "data = data[data['review_scores_rating'].notna()]\n",
    "\n"
   ]
  },
  {
   "cell_type": "code",
   "execution_count": 10,
   "metadata": {},
   "outputs": [
    {
     "data": {
      "text/html": [
       "<div>\n",
       "<style scoped>\n",
       "    .dataframe tbody tr th:only-of-type {\n",
       "        vertical-align: middle;\n",
       "    }\n",
       "\n",
       "    .dataframe tbody tr th {\n",
       "        vertical-align: top;\n",
       "    }\n",
       "\n",
       "    .dataframe thead th {\n",
       "        text-align: right;\n",
       "    }\n",
       "</style>\n",
       "<table border=\"1\" class=\"dataframe\">\n",
       "  <thead>\n",
       "    <tr style=\"text-align: right;\">\n",
       "      <th></th>\n",
       "      <th>index</th>\n",
       "      <th>review_scores_rating</th>\n",
       "    </tr>\n",
       "  </thead>\n",
       "  <tbody>\n",
       "    <tr>\n",
       "      <th>0</th>\n",
       "      <td>100.0</td>\n",
       "      <td>4582</td>\n",
       "    </tr>\n",
       "    <tr>\n",
       "      <th>1</th>\n",
       "      <td>98.0</td>\n",
       "      <td>1557</td>\n",
       "    </tr>\n",
       "    <tr>\n",
       "      <th>2</th>\n",
       "      <td>97.0</td>\n",
       "      <td>1274</td>\n",
       "    </tr>\n",
       "    <tr>\n",
       "      <th>3</th>\n",
       "      <td>96.0</td>\n",
       "      <td>1162</td>\n",
       "    </tr>\n",
       "    <tr>\n",
       "      <th>4</th>\n",
       "      <td>95.0</td>\n",
       "      <td>956</td>\n",
       "    </tr>\n",
       "    <tr>\n",
       "      <th>5</th>\n",
       "      <td>99.0</td>\n",
       "      <td>931</td>\n",
       "    </tr>\n",
       "    <tr>\n",
       "      <th>6</th>\n",
       "      <td>93.0</td>\n",
       "      <td>916</td>\n",
       "    </tr>\n",
       "    <tr>\n",
       "      <th>7</th>\n",
       "      <td>90.0</td>\n",
       "      <td>650</td>\n",
       "    </tr>\n",
       "    <tr>\n",
       "      <th>8</th>\n",
       "      <td>94.0</td>\n",
       "      <td>616</td>\n",
       "    </tr>\n",
       "    <tr>\n",
       "      <th>9</th>\n",
       "      <td>80.0</td>\n",
       "      <td>398</td>\n",
       "    </tr>\n",
       "    <tr>\n",
       "      <th>10</th>\n",
       "      <td>92.0</td>\n",
       "      <td>397</td>\n",
       "    </tr>\n",
       "    <tr>\n",
       "      <th>11</th>\n",
       "      <td>91.0</td>\n",
       "      <td>382</td>\n",
       "    </tr>\n",
       "    <tr>\n",
       "      <th>12</th>\n",
       "      <td>87.0</td>\n",
       "      <td>230</td>\n",
       "    </tr>\n",
       "    <tr>\n",
       "      <th>13</th>\n",
       "      <td>89.0</td>\n",
       "      <td>195</td>\n",
       "    </tr>\n",
       "    <tr>\n",
       "      <th>14</th>\n",
       "      <td>88.0</td>\n",
       "      <td>183</td>\n",
       "    </tr>\n",
       "    <tr>\n",
       "      <th>15</th>\n",
       "      <td>85.0</td>\n",
       "      <td>130</td>\n",
       "    </tr>\n",
       "    <tr>\n",
       "      <th>16</th>\n",
       "      <td>86.0</td>\n",
       "      <td>95</td>\n",
       "    </tr>\n",
       "    <tr>\n",
       "      <th>17</th>\n",
       "      <td>60.0</td>\n",
       "      <td>92</td>\n",
       "    </tr>\n",
       "    <tr>\n",
       "      <th>18</th>\n",
       "      <td>84.0</td>\n",
       "      <td>88</td>\n",
       "    </tr>\n",
       "    <tr>\n",
       "      <th>19</th>\n",
       "      <td>83.0</td>\n",
       "      <td>73</td>\n",
       "    </tr>\n",
       "    <tr>\n",
       "      <th>20</th>\n",
       "      <td>70.0</td>\n",
       "      <td>39</td>\n",
       "    </tr>\n",
       "    <tr>\n",
       "      <th>21</th>\n",
       "      <td>82.0</td>\n",
       "      <td>37</td>\n",
       "    </tr>\n",
       "    <tr>\n",
       "      <th>22</th>\n",
       "      <td>20.0</td>\n",
       "      <td>24</td>\n",
       "    </tr>\n",
       "    <tr>\n",
       "      <th>23</th>\n",
       "      <td>73.0</td>\n",
       "      <td>23</td>\n",
       "    </tr>\n",
       "    <tr>\n",
       "      <th>24</th>\n",
       "      <td>40.0</td>\n",
       "      <td>22</td>\n",
       "    </tr>\n",
       "    <tr>\n",
       "      <th>25</th>\n",
       "      <td>81.0</td>\n",
       "      <td>20</td>\n",
       "    </tr>\n",
       "    <tr>\n",
       "      <th>26</th>\n",
       "      <td>75.0</td>\n",
       "      <td>18</td>\n",
       "    </tr>\n",
       "    <tr>\n",
       "      <th>27</th>\n",
       "      <td>67.0</td>\n",
       "      <td>14</td>\n",
       "    </tr>\n",
       "    <tr>\n",
       "      <th>28</th>\n",
       "      <td>77.0</td>\n",
       "      <td>13</td>\n",
       "    </tr>\n",
       "    <tr>\n",
       "      <th>29</th>\n",
       "      <td>76.0</td>\n",
       "      <td>10</td>\n",
       "    </tr>\n",
       "    <tr>\n",
       "      <th>30</th>\n",
       "      <td>78.0</td>\n",
       "      <td>9</td>\n",
       "    </tr>\n",
       "    <tr>\n",
       "      <th>31</th>\n",
       "      <td>50.0</td>\n",
       "      <td>7</td>\n",
       "    </tr>\n",
       "    <tr>\n",
       "      <th>32</th>\n",
       "      <td>65.0</td>\n",
       "      <td>6</td>\n",
       "    </tr>\n",
       "    <tr>\n",
       "      <th>33</th>\n",
       "      <td>74.0</td>\n",
       "      <td>6</td>\n",
       "    </tr>\n",
       "    <tr>\n",
       "      <th>34</th>\n",
       "      <td>71.0</td>\n",
       "      <td>5</td>\n",
       "    </tr>\n",
       "    <tr>\n",
       "      <th>35</th>\n",
       "      <td>69.0</td>\n",
       "      <td>4</td>\n",
       "    </tr>\n",
       "    <tr>\n",
       "      <th>36</th>\n",
       "      <td>66.0</td>\n",
       "      <td>4</td>\n",
       "    </tr>\n",
       "    <tr>\n",
       "      <th>37</th>\n",
       "      <td>68.0</td>\n",
       "      <td>4</td>\n",
       "    </tr>\n",
       "    <tr>\n",
       "      <th>38</th>\n",
       "      <td>72.0</td>\n",
       "      <td>3</td>\n",
       "    </tr>\n",
       "    <tr>\n",
       "      <th>39</th>\n",
       "      <td>56.0</td>\n",
       "      <td>2</td>\n",
       "    </tr>\n",
       "    <tr>\n",
       "      <th>40</th>\n",
       "      <td>63.0</td>\n",
       "      <td>2</td>\n",
       "    </tr>\n",
       "    <tr>\n",
       "      <th>41</th>\n",
       "      <td>57.0</td>\n",
       "      <td>2</td>\n",
       "    </tr>\n",
       "    <tr>\n",
       "      <th>42</th>\n",
       "      <td>53.0</td>\n",
       "      <td>1</td>\n",
       "    </tr>\n",
       "    <tr>\n",
       "      <th>43</th>\n",
       "      <td>64.0</td>\n",
       "      <td>1</td>\n",
       "    </tr>\n",
       "    <tr>\n",
       "      <th>44</th>\n",
       "      <td>47.0</td>\n",
       "      <td>1</td>\n",
       "    </tr>\n",
       "    <tr>\n",
       "      <th>45</th>\n",
       "      <td>79.0</td>\n",
       "      <td>1</td>\n",
       "    </tr>\n",
       "    <tr>\n",
       "      <th>46</th>\n",
       "      <td>32.0</td>\n",
       "      <td>1</td>\n",
       "    </tr>\n",
       "    <tr>\n",
       "      <th>47</th>\n",
       "      <td>48.0</td>\n",
       "      <td>1</td>\n",
       "    </tr>\n",
       "  </tbody>\n",
       "</table>\n",
       "</div>"
      ],
      "text/plain": [
       "    index  review_scores_rating\n",
       "0   100.0                  4582\n",
       "1    98.0                  1557\n",
       "2    97.0                  1274\n",
       "3    96.0                  1162\n",
       "4    95.0                   956\n",
       "5    99.0                   931\n",
       "6    93.0                   916\n",
       "7    90.0                   650\n",
       "8    94.0                   616\n",
       "9    80.0                   398\n",
       "10   92.0                   397\n",
       "11   91.0                   382\n",
       "12   87.0                   230\n",
       "13   89.0                   195\n",
       "14   88.0                   183\n",
       "15   85.0                   130\n",
       "16   86.0                    95\n",
       "17   60.0                    92\n",
       "18   84.0                    88\n",
       "19   83.0                    73\n",
       "20   70.0                    39\n",
       "21   82.0                    37\n",
       "22   20.0                    24\n",
       "23   73.0                    23\n",
       "24   40.0                    22\n",
       "25   81.0                    20\n",
       "26   75.0                    18\n",
       "27   67.0                    14\n",
       "28   77.0                    13\n",
       "29   76.0                    10\n",
       "30   78.0                     9\n",
       "31   50.0                     7\n",
       "32   65.0                     6\n",
       "33   74.0                     6\n",
       "34   71.0                     5\n",
       "35   69.0                     4\n",
       "36   66.0                     4\n",
       "37   68.0                     4\n",
       "38   72.0                     3\n",
       "39   56.0                     2\n",
       "40   63.0                     2\n",
       "41   57.0                     2\n",
       "42   53.0                     1\n",
       "43   64.0                     1\n",
       "44   47.0                     1\n",
       "45   79.0                     1\n",
       "46   32.0                     1\n",
       "47   48.0                     1"
      ]
     },
     "execution_count": 10,
     "metadata": {},
     "output_type": "execute_result"
    }
   ],
   "source": [
    "## Tabla de frecuencia univariada \n",
    "frec_data = data['review_scores_rating'].value_counts().reset_index()\n",
    "frec_data\n"
   ]
  },
  {
   "cell_type": "code",
   "execution_count": 11,
   "metadata": {},
   "outputs": [],
   "source": [
    "# Tabla de frecuencia relativa \n",
    "frec_data['porcentaje_review_scores_rating'] = frec_data['review_scores_rating'].apply(lambda x: x/frec_data['review_scores_rating'].sum())\n"
   ]
  },
  {
   "cell_type": "code",
   "execution_count": 12,
   "metadata": {},
   "outputs": [],
   "source": [
    "## Tabla de frecuencia absoluta y relativa acumulada con cumsum()\n",
    "#Frecuencia absoluta acumulada\n",
    "frec_data['acumulada_review_scores_rating'] = frec_data['review_scores_rating'].cumsum()\n",
    "\n",
    "# Frecuencia relativa acumulada\n",
    "frec_data['acumulada_porcentaje_review_scores_rating'] = frec_data['porcentaje_review_scores_rating'].cumsum()\n"
   ]
  },
  {
   "cell_type": "code",
   "execution_count": 13,
   "metadata": {},
   "outputs": [
    {
     "data": {
      "text/html": [
       "<div>\n",
       "<style scoped>\n",
       "    .dataframe tbody tr th:only-of-type {\n",
       "        vertical-align: middle;\n",
       "    }\n",
       "\n",
       "    .dataframe tbody tr th {\n",
       "        vertical-align: top;\n",
       "    }\n",
       "\n",
       "    .dataframe thead th {\n",
       "        text-align: right;\n",
       "    }\n",
       "</style>\n",
       "<table border=\"1\" class=\"dataframe\">\n",
       "  <thead>\n",
       "    <tr style=\"text-align: right;\">\n",
       "      <th></th>\n",
       "      <th>index</th>\n",
       "      <th>review_scores_rating</th>\n",
       "      <th>porcentaje_review_scores_rating</th>\n",
       "      <th>acumulada_review_scores_rating</th>\n",
       "      <th>acumulada_porcentaje_review_scores_rating</th>\n",
       "    </tr>\n",
       "  </thead>\n",
       "  <tbody>\n",
       "    <tr>\n",
       "      <th>0</th>\n",
       "      <td>100.0</td>\n",
       "      <td>4582</td>\n",
       "      <td>0.301705</td>\n",
       "      <td>4582</td>\n",
       "      <td>0.301705</td>\n",
       "    </tr>\n",
       "    <tr>\n",
       "      <th>1</th>\n",
       "      <td>98.0</td>\n",
       "      <td>1557</td>\n",
       "      <td>0.102522</td>\n",
       "      <td>6139</td>\n",
       "      <td>0.404227</td>\n",
       "    </tr>\n",
       "    <tr>\n",
       "      <th>2</th>\n",
       "      <td>97.0</td>\n",
       "      <td>1274</td>\n",
       "      <td>0.083888</td>\n",
       "      <td>7413</td>\n",
       "      <td>0.488115</td>\n",
       "    </tr>\n",
       "    <tr>\n",
       "      <th>3</th>\n",
       "      <td>96.0</td>\n",
       "      <td>1162</td>\n",
       "      <td>0.076513</td>\n",
       "      <td>8575</td>\n",
       "      <td>0.564628</td>\n",
       "    </tr>\n",
       "    <tr>\n",
       "      <th>4</th>\n",
       "      <td>95.0</td>\n",
       "      <td>956</td>\n",
       "      <td>0.062949</td>\n",
       "      <td>9531</td>\n",
       "      <td>0.627576</td>\n",
       "    </tr>\n",
       "  </tbody>\n",
       "</table>\n",
       "</div>"
      ],
      "text/plain": [
       "   index  review_scores_rating  porcentaje_review_scores_rating  \\\n",
       "0  100.0                  4582                         0.301705   \n",
       "1   98.0                  1557                         0.102522   \n",
       "2   97.0                  1274                         0.083888   \n",
       "3   96.0                  1162                         0.076513   \n",
       "4   95.0                   956                         0.062949   \n",
       "\n",
       "   acumulada_review_scores_rating  acumulada_porcentaje_review_scores_rating  \n",
       "0                            4582                                   0.301705  \n",
       "1                            6139                                   0.404227  \n",
       "2                            7413                                   0.488115  \n",
       "3                            8575                                   0.564628  \n",
       "4                            9531                                   0.627576  "
      ]
     },
     "execution_count": 13,
     "metadata": {},
     "output_type": "execute_result"
    }
   ],
   "source": [
    "frec_data.head()"
   ]
  },
  {
   "cell_type": "markdown",
   "metadata": {},
   "source": [
    "2. ¿Cuál es el precio promedio de alquiler de un inmueble qué se situé por encima del 78%? \n",
    "\n",
    "Para responder a esta pregunta te invitamos a seguir los siguientes pasos:\n",
    "* Buscar la variable “price”. \n",
    "* Transformar la variable “price” de carácter a numérica. \n",
    "* Excluir los valores nulos e iguales a 0.\n",
    "* Calcular el percentil 78.\n",
    "* Filtrar la base de precios con el percentil 78.\n",
    "* Calcular la media de la variable. "
   ]
  },
  {
   "cell_type": "code",
   "execution_count": 14,
   "metadata": {},
   "outputs": [],
   "source": [
    "## Se eliminan los valores Na de la variable 'price'\n",
    "data = data[data['price'].notna()]\n"
   ]
  },
  {
   "cell_type": "code",
   "execution_count": 15,
   "metadata": {},
   "outputs": [
    {
     "data": {
      "text/plain": [
       "190.0"
      ]
     },
     "execution_count": 15,
     "metadata": {},
     "output_type": "execute_result"
    }
   ],
   "source": [
    "# Se obtiene el percentil 78 de la variable 'price'\n",
    "data['price'].quantile(0.78)"
   ]
  },
  {
   "cell_type": "code",
   "execution_count": 16,
   "metadata": {},
   "outputs": [
    {
     "data": {
      "text/plain": [
       "151.58"
      ]
     },
     "execution_count": 16,
     "metadata": {},
     "output_type": "execute_result"
    }
   ],
   "source": [
    "# Se obtiena la media de la variabble 'price'\n",
    "round(data['price'].mean(),2)"
   ]
  },
  {
   "cell_type": "markdown",
   "metadata": {},
   "source": [
    "3. ¿Qué porcentaje de inmuebles en la ciudad se alquilan por debajo del promedio de la ciudad? "
   ]
  },
  {
   "cell_type": "code",
   "execution_count": 17,
   "metadata": {},
   "outputs": [
    {
     "data": {
      "text/plain": [
       "151.5823401593468"
      ]
     },
     "execution_count": 17,
     "metadata": {},
     "output_type": "execute_result"
    }
   ],
   "source": [
    "data['price'] = pd.to_numeric(data['price'])\n",
    "data['price'].mean()"
   ]
  },
  {
   "cell_type": "markdown",
   "metadata": {},
   "source": [
    "4. Se desea alquilar un inmueble en la ciudad de Ámsterdam que sea 100 euros más costoso que el promedio distrital, ¿a cuantas desviaciones estaría este inmueble del promedio global?\n",
    "\n",
    "**Para responder a esta pregunta te invitamos a seguir los siguientes pasos:**\n",
    "* Calcular la media y la desviación estándar de la variable “Price”.\n",
    "* Sumar la media y la desviación estándar comparar con el valor objetivo de alquiler\n",
    "* Sumar la media y 100 euros. \n",
    "* Si la suma obtenida en el paso 6 es mayor a la suma en el paso 7, entonces está a una desviación estándar.\n",
    "* Si la suma obtenida en el paso 6 es menor a la suma en el paso 7, entonces está a más una desviación estándar."
   ]
  },
  {
   "cell_type": "code",
   "execution_count": 65,
   "metadata": {},
   "outputs": [
    {
     "data": {
      "text/plain": [
       "135.5540046337238"
      ]
     },
     "execution_count": 65,
     "metadata": {},
     "output_type": "execute_result"
    }
   ],
   "source": [
    "# Se obtine la desviación estándar de la varible 'price'\n",
    "data['price'].std()"
   ]
  },
  {
   "cell_type": "code",
   "execution_count": 67,
   "metadata": {},
   "outputs": [
    {
     "data": {
      "text/plain": [
       "287.14"
      ]
     },
     "execution_count": 67,
     "metadata": {},
     "output_type": "execute_result"
    }
   ],
   "source": [
    "# Sumar la media y deviación estándar \n",
    "round(data['price'].mean() + data['price'].std(),2)"
   ]
  },
  {
   "cell_type": "code",
   "execution_count": 68,
   "metadata": {},
   "outputs": [
    {
     "data": {
      "text/plain": [
       "251.5823401593468"
      ]
     },
     "execution_count": 68,
     "metadata": {},
     "output_type": "execute_result"
    }
   ],
   "source": [
    "# Sumar la media y 100 euros\n",
    "data['price'].mean() + 100"
   ]
  }
 ],
 "metadata": {
  "interpreter": {
   "hash": "55923a6ed19f62c923f4f9446379b87364bb44c28ea18797870eef05a25fc661"
  },
  "kernelspec": {
   "display_name": "Python 3.9.6 64-bit (system)",
   "language": "python",
   "name": "python3"
  },
  "language_info": {
   "codemirror_mode": {
    "name": "ipython",
    "version": 3
   },
   "file_extension": ".py",
   "mimetype": "text/x-python",
   "name": "python",
   "nbconvert_exporter": "python",
   "pygments_lexer": "ipython3",
   "version": "3.9.6"
  },
  "orig_nbformat": 4
 },
 "nbformat": 4,
 "nbformat_minor": 2
}
